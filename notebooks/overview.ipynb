{
  "nbformat": 4,
  "nbformat_minor": 0,
  "metadata": {
    "colab": {
      "name": "[Based on repo]MaskedTensor_torch_dispatch.ipynb",
      "provenance": [],
      "collapsed_sections": [],
      "toc_visible": true
    },
    "kernelspec": {
      "name": "python3",
      "display_name": "Python 3"
    },
    "language_info": {
      "name": "python"
    }
  },
  "cells": [
    {
      "cell_type": "code",
      "metadata": {
        "id": "JF8WDyTRq0Hn"
      },
      "source": [
        "import torch\n",
        "import numpy as np\n",
        "if torch.__version__ != \"1.11.0.dev20211127+cpu\":\n",
        "    !pip uninstall --y torch\n",
        "    !pip install https://download.pytorch.org/whl/nightly/cpu/torch-1.11.0.dev20211127%2Bcpu-cp37-cp37m-linux_x86_64.whl\n",
        "    raise RuntimeError(\"Restart runtime now\")"
      ],
      "execution_count": 1,
      "outputs": []
    },
    {
      "cell_type": "code",
      "metadata": {
        "colab": {
          "base_uri": "https://localhost:8080/"
        },
        "id": "2o4aL_UWd8xR",
        "outputId": "2d81e664-a8ab-4f9a-e823-0fa5aef2b8ab"
      },
      "source": [
        "!pip install git+https://github.com/cpuhrsch/maskedtensor"
      ],
      "execution_count": 2,
      "outputs": [
        {
          "output_type": "stream",
          "name": "stdout",
          "text": [
            "Collecting git+https://github.com/cpuhrsch/maskedtensor\n",
            "  Cloning https://github.com/cpuhrsch/maskedtensor to /tmp/pip-req-build-_jyonjav\n",
            "  Running command git clone -q https://github.com/cpuhrsch/maskedtensor /tmp/pip-req-build-_jyonjav\n"
          ]
        }
      ]
    },
    {
      "cell_type": "code",
      "metadata": {
        "id": "XHPLFh2Qf4ZL"
      },
      "source": [
        "# Import factory function\n",
        "from maskedtensor import masked_tensor\n",
        "from maskedtensor import as_masked_tensor"
      ],
      "execution_count": 3,
      "outputs": []
    },
    {
      "cell_type": "markdown",
      "metadata": {
        "id": "aSD_zzXcWLvK"
      },
      "source": [
        "## Some basics"
      ]
    },
    {
      "cell_type": "code",
      "metadata": {
        "colab": {
          "base_uri": "https://localhost:8080/"
        },
        "id": "FrNr_-yfjcsr",
        "outputId": "b1b03759-1e8c-4cf3-bdae-0be4900ee8ea"
      },
      "source": [
        "# First example of addition\n",
        "data = torch.arange(5.)\n",
        "mask = torch.tensor([True, True, False, True, False])\n",
        "m0 = masked_tensor(data, mask)\n",
        "m1 = masked_tensor(data, ~mask)\n",
        "print(m0)\n",
        "print(m1)\n",
        "print(torch.cos(m0))\n",
        "print(m0 + m0)\n",
        "try:\n",
        "  # For now the masks must match. We treat them like shapes.\n",
        "  # We can relax this later on, but should have a good reason for it.\n",
        "  # We'll revisit this once we have reductions.\n",
        "  print(m0 + m1)\n",
        "except ValueError as e:\n",
        "  print(e)"
      ],
      "execution_count": 4,
      "outputs": [
        {
          "output_type": "stream",
          "name": "stdout",
          "text": [
            "masked_tensor(\n",
            "  [  0.0000,   1.0000,       --,   3.0000,       --]\n",
            ")\n",
            "masked_tensor(\n",
            "  [      --,       --,   2.0000,       --,   4.0000]\n",
            ")\n",
            "masked_tensor(\n",
            "  [  1.0000,   0.5403,       --,  -0.9900,       --]\n",
            ")\n",
            "masked_tensor(\n",
            "  [  0.0000,   2.0000,       --,   6.0000,       --]\n",
            ")\n",
            "If both inputs are MaskedTensors their masks must match.\n"
          ]
        }
      ]
    },
    {
      "cell_type": "markdown",
      "metadata": {
        "id": "RMHT1RebL8PR"
      },
      "source": [
        "NumPy's MaskedArray implements intersection semantics here. If one of two elements are masked out the resulting element will be masked out as well. Note that MaskedArray's factory function inverts the mask (similar to torch.nn.MHA). For MaskedTensor we'd apply the logical_and operator to both masks during a binary operation to get the semantics NumPy has. Since NumPy stores the inverted mask they [apply the logical_or operator](https://github.com/numpy/numpy/blob/68299575d8595d904aff6f28e12d21bf6428a4ba/numpy/ma/core.py#L1016-L1024). But to repeat this point we suggest to not support addition between MaskedTensors with masks that don't match. See the section on reductions for why we should have good reasons for this."
      ]
    },
    {
      "cell_type": "code",
      "metadata": {
        "colab": {
          "base_uri": "https://localhost:8080/"
        },
        "id": "-tmWxZ9NKEgE",
        "outputId": "5997cae5-f4c4-4422-b6d1-c80fd59c4001"
      },
      "source": [
        "npm0 = np.ma.masked_array(data.numpy(), (~mask).numpy())\n",
        "npm1 = np.ma.masked_array(data.numpy(), (mask).numpy())\n",
        "print(npm0)\n",
        "print(npm1)\n",
        "print(npm0 + npm1)\n"
      ],
      "execution_count": 5,
      "outputs": [
        {
          "output_type": "stream",
          "name": "stdout",
          "text": [
            "[0.0 1.0 -- 3.0 --]\n",
            "[-- -- 2.0 -- 4.0]\n",
            "[-- -- -- -- --]\n"
          ]
        }
      ]
    },
    {
      "cell_type": "markdown",
      "metadata": {
        "id": "SljV_QCfMEu7"
      },
      "source": [
        "MaskedTensor also supports these semantics by giving access to the masks and conveniently converting a MaskedTensor to a Tensor with masked values filled in with a particular value.\n",
        "\n",
        "NumPy of course has the opportunity to avoid addition altogether in this case by check whether any results are not masked, but [chooses not to](https://github.com/numpy/numpy/blob/68299575d8595d904aff6f28e12d21bf6428a4ba/numpy/ma/core.py#L1013). Presumably it's more expensive to allreduce the mask every time to avoid the binary addition of the data in this case."
      ]
    },
    {
      "cell_type": "code",
      "metadata": {
        "colab": {
          "base_uri": "https://localhost:8080/"
        },
        "id": "D-TCtDEJJzeV",
        "outputId": "de7bd486-4a0f-4645-8c38-63b5b16eb55f"
      },
      "source": [
        "m0t = m0.to_tensor(0)\n",
        "m1t = m1.to_tensor(0)\n",
        "\n",
        "m2t = masked_tensor(m0t + m1t, m0.mask() & m1.mask())\n",
        "print(m0t)\n",
        "print(m1t)\n",
        "print(m2t)"
      ],
      "execution_count": 6,
      "outputs": [
        {
          "output_type": "stream",
          "name": "stdout",
          "text": [
            "tensor([0., 1., 0., 3., 0.])\n",
            "tensor([0., 0., 2., 0., 4.])\n",
            "masked_tensor(\n",
            "  [      --,       --,       --,       --,       --]\n",
            ")\n"
          ]
        }
      ]
    },
    {
      "cell_type": "markdown",
      "metadata": {
        "id": "zAbRZK3QZgge"
      },
      "source": [
        "Example of printing a 2d MaskedTensor and setup for reductions below"
      ]
    },
    {
      "cell_type": "code",
      "metadata": {
        "id": "y9tv_SP8oI7Z",
        "colab": {
          "base_uri": "https://localhost:8080/"
        },
        "outputId": "006fbfc2-a59c-4205-919e-d866203aa840"
      },
      "source": [
        "data = torch.randn(8, 3).mul(10).int().float()\n",
        "mask = torch.randint(2, (8, 3), dtype=torch.bool)\n",
        "print(data)\n",
        "print(mask)\n",
        "m = masked_tensor(data, mask)\n",
        "print(m)"
      ],
      "execution_count": 7,
      "outputs": [
        {
          "output_type": "stream",
          "name": "stdout",
          "text": [
            "tensor([[ 10.,  -5.,   4.],\n",
            "        [ -3.,   1.,   2.],\n",
            "        [ -5.,  13., -10.],\n",
            "        [-11.,   0.,   1.],\n",
            "        [ -7.,  -1.,   1.],\n",
            "        [ -4.,  -8.,  -4.],\n",
            "        [  1.,   0.,   0.],\n",
            "        [ -8.,   4.,   8.]])\n",
            "tensor([[ True,  True, False],\n",
            "        [ True,  True,  True],\n",
            "        [False, False,  True],\n",
            "        [False,  True, False],\n",
            "        [False, False,  True],\n",
            "        [ True, False,  True],\n",
            "        [False,  True,  True],\n",
            "        [ True, False,  True]])\n",
            "masked_tensor(\n",
            "  [\n",
            "    [ 10.0000,  -5.0000,       --],\n",
            "    [ -3.0000,   1.0000,   2.0000],\n",
            "    [      --,       --, -10.0000],\n",
            "    [      --,   0.0000,       --],\n",
            "    [      --,       --,   1.0000],\n",
            "    [ -4.0000,       --,  -4.0000],\n",
            "    [      --,   0.0000,   0.0000],\n",
            "    [ -8.0000,       --,   8.0000]\n",
            "  ]\n",
            ")\n"
          ]
        }
      ]
    },
    {
      "cell_type": "markdown",
      "metadata": {
        "id": "8fUbL3yAZqZF"
      },
      "source": [
        "Reduction semantics based on https://github.com/pytorch/rfcs/pull/27"
      ]
    },
    {
      "cell_type": "code",
      "metadata": {
        "id": "M2wGD5hRpVDV",
        "colab": {
          "base_uri": "https://localhost:8080/"
        },
        "outputId": "f5867cef-70b6-427b-c4bc-8fc066a98469"
      },
      "source": [
        "print(torch.sum(m, 1))\n",
        "print(torch.mean(m, 1))\n",
        "print(torch.prod(m, 1))\n",
        "print(torch.amin(m, 1))\n",
        "print(torch.amax(m, 1))"
      ],
      "execution_count": 8,
      "outputs": [
        {
          "output_type": "stream",
          "name": "stdout",
          "text": [
            "masked_tensor(\n",
            "  [  5.0000,   0.0000, -10.0000,   0.0000,   1.0000,  -8.0000,   0.0000,   0.0000]\n",
            ")\n",
            "masked_tensor(\n",
            "  [  2.5000,   0.0000, -10.0000,   0.0000,   1.0000,  -4.0000,   0.0000,   0.0000]\n",
            ")\n",
            "masked_tensor(\n",
            "  [-50.0000,  -6.0000, -10.0000,   0.0000,   1.0000,  16.0000,   0.0000, -64.0000]\n",
            ")\n",
            "masked_tensor(\n",
            "  [ -5.0000,  -3.0000, -10.0000,   0.0000,   1.0000,  -4.0000,   0.0000,  -8.0000]\n",
            ")\n",
            "masked_tensor(\n",
            "  [ 10.0000,   2.0000, -10.0000,   0.0000,   1.0000,  -4.0000,   0.0000,   8.0000]\n",
            ")\n"
          ]
        }
      ]
    },
    {
      "cell_type": "markdown",
      "metadata": {
        "id": "TyLv4Nf4dVtS"
      },
      "source": [
        "Now that we have reductions, let's revisit as to why we'll probably want to have a good reason to allow addition of MaskedTensors with different masks."
      ]
    },
    {
      "cell_type": "code",
      "metadata": {
        "colab": {
          "base_uri": "https://localhost:8080/"
        },
        "id": "xMPyMU87fICJ",
        "outputId": "910e01fd-0da9-4e56-f91e-4a2087b4377b"
      },
      "source": [
        "data0 = torch.arange(10.).reshape(2, 5)\n",
        "data1 = torch.arange(10.).reshape(2, 5) + 10\n",
        "mask0 = torch.tensor([[True, True, False, False, False], [False, False, False, True, True]])\n",
        "mask1 = torch.tensor([[False, False, False, True, True], [True, True, False, False, False]])\n",
        "\n",
        "npm0 = np.ma.masked_array(data0.numpy(), (mask0).numpy())\n",
        "npm1 = np.ma.masked_array(data1.numpy(), (mask1).numpy())\n",
        "print(\"\\nnpm0:\\n\", npm0)\n",
        "print(\"\\nnpm1:\\n\", npm1)\n",
        "print(\"\\n(npm0 + npm1).sum(0):\\n\", (npm0 + npm1).sum(0))\n",
        "print(\"\\nnpm0.sum(0) + npm1.sum(0):\\n\", (npm0.sum(0) + npm1.sum(0)))\n",
        "print(\"\\n(data0 + data1).sum(0):\\n\", (data0 + data1).sum(0))\n",
        "print(\"\\n(data0 + data1).sum(0):\\n\", (data0.sum(0) + data1.sum(0)))"
      ],
      "execution_count": 9,
      "outputs": [
        {
          "output_type": "stream",
          "name": "stdout",
          "text": [
            "\n",
            "npm0:\n",
            " [[-- -- 2.0 3.0 4.0]\n",
            " [5.0 6.0 7.0 -- --]]\n",
            "\n",
            "npm1:\n",
            " [[10.0 11.0 12.0 -- --]\n",
            " [-- -- 17.0 18.0 19.0]]\n",
            "\n",
            "(npm0 + npm1).sum(0):\n",
            " [-- -- 38.0 -- --]\n",
            "\n",
            "npm0.sum(0) + npm1.sum(0):\n",
            " [15.0 17.0 38.0 21.0 23.0]\n",
            "\n",
            "(data0 + data1).sum(0):\n",
            " tensor([30., 34., 38., 42., 46.])\n",
            "\n",
            "(data0 + data1).sum(0):\n",
            " tensor([30., 34., 38., 42., 46.])\n"
          ]
        }
      ]
    },
    {
      "cell_type": "markdown",
      "metadata": {
        "id": "FjSyaqqKgvYh"
      },
      "source": [
        "Sum and addition should be associative. However with NumPy's semantics we allow them not to be. Instead of allowing these semantics, at least in the case of addition and sum, we could ask the user to fill the MaskedTensor's undefined elements with 0 values or as in the MaskedTensor addition examples above be very specific about the semantics used. \n",
        "\n",
        "While it's obviously possible to support this, I think we should cover other operators first and really make sure we can't avoid this behavior via other means."
      ]
    },
    {
      "cell_type": "markdown",
      "metadata": {
        "id": "ADp2guJ6ZlMo"
      },
      "source": [
        "Now let's print some higher dimensional MaskedTensors."
      ]
    },
    {
      "cell_type": "code",
      "metadata": {
        "id": "c3ESKLl0pYEj",
        "colab": {
          "base_uri": "https://localhost:8080/"
        },
        "outputId": "41f3d277-177a-484a-9ae1-f89ef552a8d9"
      },
      "source": [
        "data = torch.randn(4, 5, 3).mul(5).float()\n",
        "mask = torch.randint(2, (4, 5, 3), dtype=torch.bool)\n",
        "m = masked_tensor(data, mask)\n",
        "print(m)"
      ],
      "execution_count": 10,
      "outputs": [
        {
          "output_type": "stream",
          "name": "stdout",
          "text": [
            "masked_tensor(\n",
            "  [\n",
            "    [\n",
            "      [      --,  -6.6733,       --],\n",
            "      [  3.7979,       --,       --],\n",
            "      [      --,       --,  -6.4890],\n",
            "      [  0.9028,   1.4384,   1.9207],\n",
            "      [      --,   5.2584,       --]\n",
            "    ],\n",
            "    [\n",
            "      [      --,   4.0511,       --],\n",
            "      [ -2.6096,       --,   2.1754],\n",
            "      [  3.1719,       --,   0.5696],\n",
            "      [      --,  -1.6877,  -5.7607],\n",
            "      [      --,   6.9344,       --]\n",
            "    ],\n",
            "    [\n",
            "      [  7.8544,       --,   2.8689],\n",
            "      [      --,   0.1177,       --],\n",
            "      [      --,   2.1591,       --],\n",
            "      [  0.3977,   3.4644,       --],\n",
            "      [ -2.1142,  -5.5253,   1.4900]\n",
            "    ],\n",
            "    [\n",
            "      [ -2.1911,  10.5843,  -2.1553],\n",
            "      [      --,   1.8792,       --],\n",
            "      [      --,       --,  -4.5374],\n",
            "      [      --,       --,       --],\n",
            "      [      --,       --,       --]\n",
            "    ]\n",
            "  ]\n",
            ")\n"
          ]
        }
      ]
    },
    {
      "cell_type": "markdown",
      "metadata": {
        "id": "LgHrnMB7ZtOo"
      },
      "source": [
        "Example of indexing and advanced indexing"
      ]
    },
    {
      "cell_type": "code",
      "metadata": {
        "id": "RWGG2AA1r_R-",
        "colab": {
          "base_uri": "https://localhost:8080/"
        },
        "outputId": "20ad0002-bb61-4a3a-c700-541ce229718d"
      },
      "source": [
        "print(m[0])\n",
        "print(m[torch.tensor([0, 2])])\n",
        "print(m[m.mask()])"
      ],
      "execution_count": 11,
      "outputs": [
        {
          "output_type": "stream",
          "name": "stdout",
          "text": [
            "masked_tensor(\n",
            "  [\n",
            "    [      --,  -6.6733,       --],\n",
            "    [  3.7979,       --,       --],\n",
            "    [      --,       --,  -6.4890],\n",
            "    [  0.9028,   1.4384,   1.9207],\n",
            "    [      --,   5.2584,       --]\n",
            "  ]\n",
            ")\n",
            "masked_tensor(\n",
            "  [\n",
            "    [\n",
            "      [      --,  -6.6733,       --],\n",
            "      [  3.7979,       --,       --],\n",
            "      [      --,       --,  -6.4890],\n",
            "      [  0.9028,   1.4384,   1.9207],\n",
            "      [      --,   5.2584,       --]\n",
            "    ],\n",
            "    [\n",
            "      [  7.8544,       --,   2.8689],\n",
            "      [      --,   0.1177,       --],\n",
            "      [      --,   2.1591,       --],\n",
            "      [  0.3977,   3.4644,       --],\n",
            "      [ -2.1142,  -5.5253,   1.4900]\n",
            "    ]\n",
            "  ]\n",
            ")\n",
            "masked_tensor(\n",
            "  [ -6.6733,   3.7979,  -6.4890,   0.9028,   1.4384,   1.9207,   5.2584,   4.0511,  -2.6096,   2.1754,   3.1719,   0.5696,  -1.6877,  -5.7607,   6.9344,   7.8544,   2.8689,   0.1177,   2.1591,   0.3977,   3.4644,  -2.1142,  -5.5253,   1.4900,  -2.1911,  10.5843,  -2.1553,   1.8792,  -4.5374]\n",
            ")\n"
          ]
        }
      ]
    },
    {
      "cell_type": "code",
      "metadata": {
        "id": "qEejo-1-sBMw",
        "colab": {
          "base_uri": "https://localhost:8080/"
        },
        "outputId": "edd0d800-2c7c-4ea3-f67f-bbce070fc044"
      },
      "source": [
        "torch.manual_seed(22)\n",
        "# Sum needs custom autograd, since the mask of the input should be maintained\n",
        "data = torch.randn(2, 2, 3).mul(5).float()\n",
        "mask = torch.randint(2, (2, 2, 3), dtype=torch.bool)\n",
        "m = masked_tensor(data, mask, requires_grad=True)\n",
        "print(m)\n",
        "s = torch.sum(m)\n",
        "print(\"s: \", s)\n",
        "s.backward()\n",
        "print(\"m.grad: \", m.grad)\n",
        "\n",
        "# sum needs to return a scalar MaskedTensor because the input might be fully masked\n",
        "data = torch.randn(2, 2, 3).mul(5).float()\n",
        "mask = torch.zeros(2, 2, 3, dtype=torch.bool)\n",
        "m = masked_tensor(data, mask, requires_grad=True)\n",
        "print(\"\\n\", m)\n",
        "s = torch.sum(m)\n",
        "print(\"s: \", s)\n",
        "s.backward()\n",
        "print(\"m.grad: \", m.grad)"
      ],
      "execution_count": 12,
      "outputs": [
        {
          "output_type": "stream",
          "name": "stdout",
          "text": [
            "masked_tensor(\n",
            "  [\n",
            "    [\n",
            "      [      --,       --,  -0.5084],\n",
            "      [  6.7935, -15.3725,       --]\n",
            "    ],\n",
            "    [\n",
            "      [      --,   1.2078,       --],\n",
            "      [  6.5820,       --,  -1.6679]\n",
            "    ]\n",
            "  ]\n",
            ")\n",
            "s:  masked_tensor( -2.9655, True)\n",
            "m.grad:  masked_tensor(\n",
            "  [\n",
            "    [\n",
            "      [      --,       --,   1.0000],\n",
            "      [  1.0000,   1.0000,       --]\n",
            "    ],\n",
            "    [\n",
            "      [      --,   1.0000,       --],\n",
            "      [  1.0000,       --,   1.0000]\n",
            "    ]\n",
            "  ]\n",
            ")\n",
            "\n",
            " masked_tensor(\n",
            "  [\n",
            "    [\n",
            "      [      --,       --,       --],\n",
            "      [      --,       --,       --]\n",
            "    ],\n",
            "    [\n",
            "      [      --,       --,       --],\n",
            "      [      --,       --,       --]\n",
            "    ]\n",
            "  ]\n",
            ")\n",
            "s:  masked_tensor(--, False)\n",
            "m.grad:  masked_tensor(\n",
            "  [\n",
            "    [\n",
            "      [      --,       --,       --],\n",
            "      [      --,       --,       --]\n",
            "    ],\n",
            "    [\n",
            "      [      --,       --,       --],\n",
            "      [      --,       --,       --]\n",
            "    ]\n",
            "  ]\n",
            ")\n"
          ]
        }
      ]
    },
    {
      "cell_type": "code",
      "metadata": {
        "id": "3N1Y7QFJMrdz",
        "colab": {
          "base_uri": "https://localhost:8080/"
        },
        "outputId": "da5f6016-23cb-46e2-d949-ea145aea0037"
      },
      "source": [
        "# Grad of multiplication of MaskedTensor and Tensor\n",
        "x = masked_tensor(torch.tensor([3.0, 4.0]), torch.tensor([True, False]), requires_grad=True)\n",
        "print(\"x:\\n\", x)\n",
        "y = torch.tensor([2., 1.]).requires_grad_()\n",
        "print(\"y:\\n\", y)\n",
        "# The mask broadcast in the sense that the result is masked.\n",
        "# In general a MaskedTensor is considered a generalization of Tensor's shape.\n",
        "# The mask is a more complex, higher dimensional shape and thus the Tensor\n",
        "# broadcasts to it. I'd love to find a more rigorous definition of this.\n",
        "z = x * y\n",
        "print(\"x * y:\\n\", z)\n",
        "z.sum().backward()\n",
        "print(\"\\nx.grad: \", x.grad)\n",
        "# The regular torch.Tensor now has a MaskedTensor grad\n",
        "print(\"y.grad: \", y.grad)"
      ],
      "execution_count": 13,
      "outputs": [
        {
          "output_type": "stream",
          "name": "stdout",
          "text": [
            "x:\n",
            " masked_tensor(\n",
            "  [  3.0000,       --]\n",
            ")\n",
            "y:\n",
            " tensor([2., 1.], requires_grad=True)\n",
            "x * y:\n",
            " masked_tensor(\n",
            "  [  6.0000,       --]\n",
            ")\n",
            "\n",
            "x.grad:  masked_tensor(\n",
            "  [  2.0000,       --]\n",
            ")\n",
            "y.grad:  masked_tensor(\n",
            "  [  3.0000,       --]\n",
            ")\n"
          ]
        }
      ]
    },
    {
      "cell_type": "code",
      "metadata": {
        "id": "ITWFisob5xNG",
        "colab": {
          "base_uri": "https://localhost:8080/"
        },
        "outputId": "f6a6c891-212c-411d-923b-9d77fc5bcb4c"
      },
      "source": [
        "# is_contiguous doesn't work\n",
        "t = torch.arange(4).reshape(1, 2, 2).float()\n",
        "mask = (t > 0).bool().clone()\n",
        "t = t.clone()\n",
        "mt = masked_tensor(t, mask)\n",
        "mt = mt.view(mt.size())\n",
        "mt = mt.transpose(0, 1)\n",
        "print(mt.is_contiguous(), mt.size(), mt.stride())\n",
        "print(mt.masked_data.is_contiguous(), mt.masked_data.size(), mt.masked_data.stride())\n",
        "mt = mt.view(mt.size())\n",
        "print(mt.is_contiguous(), mt.size(), mt.stride())\n",
        "mt = mt.contiguous()\n",
        "print(mt.is_contiguous(), mt.size(), mt.stride())"
      ],
      "execution_count": 14,
      "outputs": [
        {
          "output_type": "stream",
          "name": "stdout",
          "text": [
            "True torch.Size([2, 1, 2]) (2, 2, 1)\n",
            "True torch.Size([2, 1, 2]) (2, 4, 1)\n",
            "True torch.Size([2, 1, 2]) (2, 2, 1)\n",
            "True torch.Size([2, 1, 2]) (2, 2, 1)\n"
          ]
        }
      ]
    },
    {
      "cell_type": "code",
      "metadata": {
        "id": "kHqeS_pwvQkD"
      },
      "source": [
        "# Because .contiguous doesn't work we need to modify view to use reshape instead\n",
        "mask = (t > 0).bool().clone()\n",
        "t = t.clone()\n",
        "mt = masked_tensor(t, mask, requires_grad=True)\n",
        "mt = mt.view([4])\n",
        "mt.sum().backward()"
      ],
      "execution_count": 15,
      "outputs": []
    },
    {
      "cell_type": "markdown",
      "metadata": {
        "id": "bPI00yqwWQ-j"
      },
      "source": [
        "## Resolving or revisiting some issues\n",
        "In some cases MaskedTensors can provide a resolution, in others it can provide an alternative or best case more principled approach."
      ]
    },
    {
      "cell_type": "markdown",
      "metadata": {
        "id": "7VQSfHpU5LvV"
      },
      "source": [
        "### [1369](https://github.com/pytorch/pytorch/issues/1369)\n",
        "This issue discussed the additional lines of code that were introduce while writing \"sparse\" semantics for Adagrad. But really the code doesn't use sparsity as a compression and optimization technique, it wants to use masked semantics. We worked around this by introducing one-off semantics and operators that encode this behavior while forcing users to be aware of storage details such as indices and values. Let's look at the current implementation of [Adagrad](https://github.com/pytorch/pytorch/blob/master/torch/optim/adagrad.py) [(functional)](https://github.com/pytorch/pytorch/blob/6c2f235d368b697072699e5ca9485fd97d0b9bcc/torch/optim/_functional.py#L16-L51) to illustrate that.\n",
        "\n",
        "In particular we'll point out when sparsity is used as a semantic extension, i.e. unspecified values are not zero and when it is just used to compress zeros. We'll also compare and contrast this with equivalent code written using MaskedTensor. In the end the code snippets are repeat without additional comments to show the difference in brevity.\n",
        "\n"
      ]
    },
    {
      "cell_type": "code",
      "metadata": {
        "id": "DS8rsWq15GbB",
        "colab": {
          "base_uri": "https://localhost:8080/"
        },
        "outputId": "94ecd1a8-df2f-41ef-b5f0-05f4dc7ee3b3"
      },
      "source": [
        "def _make_sparse(grad, grad_indices, values):\n",
        "    size = grad.size()\n",
        "    if grad_indices.numel() == 0 or values.numel() == 0:\n",
        "        return torch.empty_like(grad)\n",
        "    return torch.sparse_coo_tensor(grad_indices, values, size)\n",
        "\n",
        "# We don't support sparse gradients\n",
        "param = torch.arange(8).reshape(2, 4).float()\n",
        "i = torch.tensor([[0, 1, 1],\n",
        "                  [2, 0, 2]])\n",
        "v = torch.tensor([3, 4, 5], dtype=torch.float32)\n",
        "grad = torch.sparse_coo_tensor(i, v, [2, 4])\n",
        "state_sum = torch.full_like(param, 0.5) # initial value for state sum\n",
        "\n",
        "print(\"param:\\n\", param)\n",
        "print(\"grad:\\n\", grad.to_dense())\n",
        "print(\"state_sum:\\n\", state_sum)\n",
        "\n",
        "# Some hyperparameters\n",
        "eps = 1e-10\n",
        "clr = 0.1"
      ],
      "execution_count": 16,
      "outputs": [
        {
          "output_type": "stream",
          "name": "stdout",
          "text": [
            "param:\n",
            " tensor([[0., 1., 2., 3.],\n",
            "        [4., 5., 6., 7.]])\n",
            "grad:\n",
            " tensor([[0., 0., 3., 0.],\n",
            "        [4., 0., 5., 0.]])\n",
            "state_sum:\n",
            " tensor([[0.5000, 0.5000, 0.5000, 0.5000],\n",
            "        [0.5000, 0.5000, 0.5000, 0.5000]])\n"
          ]
        }
      ]
    },
    {
      "cell_type": "code",
      "metadata": {
        "colab": {
          "base_uri": "https://localhost:8080/"
        },
        "id": "1G4c6XpQAGcA",
        "outputId": "31335fe7-7f11-4e32-bb31-97b1ab776609"
      },
      "source": [
        "state_sum = torch.full_like(param, 0.5) # initial value for state sum\n",
        "print(state_sum)\n",
        "\n",
        "grad = grad.coalesce()  # the update is non-linear so indices must be unique\n",
        "grad_indices = grad._indices()\n",
        "grad_values = grad._values()\n",
        "size = grad.size()\n",
        "\n",
        "# pow(2) has the same semantics for both sparse and dense memory layouts since\n",
        "# 0^2 is zero\n",
        "state_sum.add_(_make_sparse(grad, grad_indices, grad_values.pow(2)))\n",
        "# We take care to make std sparse, even though state_sum clearly is not.\n",
        "# This means that we're only applying the gradient to parts of the state_sum\n",
        "# for which it is specified. This even drives the point home a lot more that\n",
        "# the passed gradient is not sparse, but masked. \n",
        "std = state_sum.sparse_mask(grad)\n",
        "print(\"state_sum:\\n\", state_sum)\n",
        "print(\"std:\\n\", std.to_dense())"
      ],
      "execution_count": 17,
      "outputs": [
        {
          "output_type": "stream",
          "name": "stdout",
          "text": [
            "tensor([[0.5000, 0.5000, 0.5000, 0.5000],\n",
            "        [0.5000, 0.5000, 0.5000, 0.5000]])\n",
            "state_sum:\n",
            " tensor([[ 0.5000,  0.5000,  9.5000,  0.5000],\n",
            "        [16.5000,  0.5000, 25.5000,  0.5000]])\n",
            "std:\n",
            " tensor([[ 0.0000,  0.0000,  9.5000,  0.0000],\n",
            "        [16.5000,  0.0000, 25.5000,  0.0000]])\n"
          ]
        }
      ]
    },
    {
      "cell_type": "code",
      "metadata": {
        "colab": {
          "base_uri": "https://localhost:8080/"
        },
        "id": "FGiIbAHYTX8K",
        "outputId": "192ec140-1d90-4ef5-abd1-d2d7668bd31d"
      },
      "source": [
        "# This is where we have a very important divergence. The addition of eps\n",
        "# should technically be applied to all values, but instead is only applied to\n",
        "# specified values. Here we're using sparsity as a semantic extension and\n",
        "# to enforce a certain pattern of defined and undefined values. If parts\n",
        "# of the values of the gradient are zero they are still included if materialized.\n",
        "# Even though they could be compressed by other sparse storage layouts.\n",
        "# This is technically quite brittle even though someone could argue that eps is\n",
        "# always very small.\n",
        "\n",
        "# More so an implementation add_ for sparsity as a storage layout and compression\n",
        "# scheme should cause densification, but we force it not to. For this one-off\n",
        "# case it is fine until we want to introduce new compression schemes such as\n",
        "# CSR, BSR or 2:4 block sparsity. We'll then need to introduce separate Tensor\n",
        "# types for each and write variations for gradients compressed using different\n",
        "# storage formats.\n",
        "\n",
        "# We currently dodge all these concerns using the private method values.\n",
        "std_values = std._values().sqrt_().add_(eps)\n",
        "\n",
        "# We currently don't support div for sparse Tensors because zero / zero is\n",
        "# not well defined. For a MaskedTensor undefined / undefined is undefined.\n",
        "param.add_(_make_sparse(grad, grad_indices, grad_values / std_values), alpha=-clr)\n",
        "print(\"param:\\n\", param)"
      ],
      "execution_count": 18,
      "outputs": [
        {
          "output_type": "stream",
          "name": "stdout",
          "text": [
            "param:\n",
            " tensor([[0.0000, 1.0000, 1.9027, 3.0000],\n",
            "        [3.9015, 5.0000, 5.9010, 7.0000]])\n"
          ]
        }
      ]
    },
    {
      "cell_type": "markdown",
      "metadata": {
        "id": "jKgg43BY_SQG"
      },
      "source": [
        "We've been conflating sparsity as an optimization with sparsity as a semantic extension to PyTorch. MaskedTensor proposes to call the semantic extension through sparsity masked. Currently we can't have dense semantics with sparse storage or masked semantics with dense storage. MaskedTensor fixes that because it separates the storage from the semantics. Let's look at above example using a masked gradient."
      ]
    },
    {
      "cell_type": "code",
      "metadata": {
        "colab": {
          "base_uri": "https://localhost:8080/"
        },
        "id": "hDJl-NCHScL5",
        "outputId": "cd976bf5-3074-44ad-a368-6b878e7ba84e"
      },
      "source": [
        "# Of course we can add sparsity as a storage layout for MaskedTensor which\n",
        "# compresses repeated undefined values. We can recycle SparseTensor and SparseCSR\n",
        "# by setting data and mask to an instance of each that share indices.\n",
        "# However, ideally we'd just have regular torch.Tensors with a sparse layout\n",
        "# and use those to back MaskedTensor.\n",
        "masked_grad = masked_tensor(grad.to_dense(), grad.to_dense() != 0)\n",
        "print(\"masked_grad:\\n\", masked_grad)"
      ],
      "execution_count": 19,
      "outputs": [
        {
          "output_type": "stream",
          "name": "stdout",
          "text": [
            "masked_grad:\n",
            " masked_tensor(\n",
            "  [\n",
            "    [      --,       --,   3.0000,       --],\n",
            "    [  4.0000,       --,   5.0000,       --]\n",
            "  ]\n",
            ")\n"
          ]
        }
      ]
    },
    {
      "cell_type": "code",
      "metadata": {
        "id": "yljgf492EuAj"
      },
      "source": [
        "# Create an entirely new set of parameters to avoid errors\n",
        "param2 = torch.arange(8).reshape(2, 4).float()\n",
        "state_sum2 = torch.full_like(param, 0.5) # initial value for state sum"
      ],
      "execution_count": 20,
      "outputs": []
    },
    {
      "cell_type": "code",
      "metadata": {
        "colab": {
          "base_uri": "https://localhost:8080/"
        },
        "id": "4zkyzQU4Pccn",
        "outputId": "9d1f19d6-1038-4343-adb7-c1f76a1e8a49"
      },
      "source": [
        "# This is an excellent example of why to_tensor is important. We don't\n",
        "# want to propagate the mask to state_sum, but still maintain the compression.\n",
        "# to_tensor could eventually return a Tensor with sparse layout for the\n",
        "# special value of zero or first require explicit densification if it can't\n",
        "# maintain the layout.\n",
        "\n",
        "# This is also a value proposition for sparsity\n",
        "# as a separate layout and a SparseTensor with dense semantics. MaskedTensor\n",
        "# can be much simpler without having to introduce complex maske union and intersection\n",
        "# semantics for binary operations.\n",
        "state_sum2 = state_sum2 + masked_grad.pow(2).to_tensor(0)\n",
        "# We can eventually construct a masked std backed by a sparse layout\n",
        "std2 = masked_tensor(state_sum2, masked_grad.mask()) #, layout=torch.layout.coo)\n",
        "# Let's print both this version and the regular version for easier comparison\n",
        "print(\"state_sum:\\n\", state_sum)\n",
        "print(\"std:\\n\", std)\n",
        "print(\"state_sum2:\\n\", state_sum2)\n",
        "print(\"std2:\\n\", std2)"
      ],
      "execution_count": 21,
      "outputs": [
        {
          "output_type": "stream",
          "name": "stdout",
          "text": [
            "state_sum:\n",
            " tensor([[ 0.5000,  0.5000,  9.5000,  0.5000],\n",
            "        [16.5000,  0.5000, 25.5000,  0.5000]])\n",
            "std:\n",
            " tensor(indices=tensor([[0, 1, 1],\n",
            "                       [2, 0, 2]]),\n",
            "       values=tensor([3.0822, 4.0620, 5.0498]),\n",
            "       size=(2, 4), nnz=3, layout=torch.sparse_coo)\n",
            "state_sum2:\n",
            " tensor([[ 0.5000,  0.5000,  9.5000,  0.5000],\n",
            "        [16.5000,  0.5000, 25.5000,  0.5000]])\n",
            "std2:\n",
            " masked_tensor(\n",
            "  [\n",
            "    [      --,       --,   9.5000,       --],\n",
            "    [ 16.5000,       --,  25.5000,       --]\n",
            "  ]\n",
            ")\n"
          ]
        }
      ]
    },
    {
      "cell_type": "code",
      "metadata": {
        "colab": {
          "base_uri": "https://localhost:8080/"
        },
        "id": "lQ_ywlvZUbVu",
        "outputId": "9987db25-9776-4360-ee50-5086663109b5"
      },
      "source": [
        "# We can add support for in-place operations later. Notice how this doesn't\n",
        "# need to access any storage internals and is in general a lot shorter\n",
        "std2 = std2.sqrt().add(eps)\n",
        "\n",
        "print(\"std:\\n\", std)\n",
        "print(\"std2:\\n\", std2)\n",
        "\n",
        "# to_tensor ideally eventually returns a torch.Tensor with sparse layout\n",
        "# but would currently return a SparseTensor.\n",
        "param2 = param2.add((masked_grad / std2).to_tensor(0), alpha=-clr)\n",
        "\n",
        "# The final results is the same\n",
        "print(\"param:\\n\", param)\n",
        "print(\"param2:\\n\", param2)"
      ],
      "execution_count": 22,
      "outputs": [
        {
          "output_type": "stream",
          "name": "stdout",
          "text": [
            "std:\n",
            " tensor(indices=tensor([[0, 1, 1],\n",
            "                       [2, 0, 2]]),\n",
            "       values=tensor([3.0822, 4.0620, 5.0498]),\n",
            "       size=(2, 4), nnz=3, layout=torch.sparse_coo)\n",
            "std2:\n",
            " masked_tensor(\n",
            "  [\n",
            "    [      --,       --,   3.0822,       --],\n",
            "    [  4.0620,       --,   5.0498,       --]\n",
            "  ]\n",
            ")\n",
            "param:\n",
            " tensor([[0.0000, 1.0000, 1.9027, 3.0000],\n",
            "        [3.9015, 5.0000, 5.9010, 7.0000]])\n",
            "param2:\n",
            " tensor([[0.0000, 1.0000, 1.9027, 3.0000],\n",
            "        [3.9015, 5.0000, 5.9010, 7.0000]])\n"
          ]
        }
      ]
    },
    {
      "cell_type": "code",
      "metadata": {
        "colab": {
          "base_uri": "https://localhost:8080/"
        },
        "id": "0lCv9h3EVj1_",
        "outputId": "26793681-2bac-417f-a6f2-adf492feeeb2"
      },
      "source": [
        "# # For reference, this is the regular, dense code path without masked gradients or sparsity\n",
        "# state_sum.addcmul_(grad, grad, value=1)\n",
        "# std = state_sum.sqrt().add_(eps)\n",
        "# param.addcdiv_(grad, std, value=-clr)\n",
        "\n",
        "# Compare this to the original for sparse\n",
        "grad = grad.coalesce()  # the update is non-linear so indices must be unique\n",
        "grad_indices = grad._indices()\n",
        "grad_values = grad._values()\n",
        "size = grad.size()\n",
        "\n",
        "state_sum.add_(_make_sparse(grad, grad_indices, grad_values.pow(2)))\n",
        "std = state_sum.sparse_mask(grad)\n",
        "std_values = std._values().sqrt_().add_(eps)\n",
        "param.add_(_make_sparse(grad, grad_indices, grad_values / std_values), alpha=-clr)\n",
        "\n",
        "# All in all MaskedTensor minimizes the code to the follwing snippet\n",
        "state_sum2 = state_sum2 + masked_grad.pow(2).to_tensor(0)\n",
        "std2 = masked_tensor(state_sum2, masked_grad.mask()) #, layout=torch.layout.coo)\n",
        "std2 = std2.sqrt().add(eps)\n",
        "param2 = param2.add((masked_grad / std2).to_tensor(0), alpha=-clr)\n",
        "\n",
        "# We ran this code again so let's check that the results again match\n",
        "print(\"param:\\n\", param)\n",
        "print(\"param2:\\n\", param2)"
      ],
      "execution_count": 23,
      "outputs": [
        {
          "output_type": "stream",
          "name": "stdout",
          "text": [
            "param:\n",
            " tensor([[0.0000, 1.0000, 1.8329, 3.0000],\n",
            "        [3.8314, 5.0000, 5.8306, 7.0000]])\n",
            "param2:\n",
            " tensor([[0.0000, 1.0000, 1.8329, 3.0000],\n",
            "        [3.8314, 5.0000, 5.8306, 7.0000]])\n"
          ]
        }
      ]
    },
    {
      "cell_type": "markdown",
      "metadata": {
        "id": "bV5wqt2rcGgk"
      },
      "source": [
        "### [4132](https://github.com/pytorch/pytorch/issues/4132)"
      ]
    },
    {
      "cell_type": "code",
      "metadata": {
        "id": "-KCA1u93uSL0",
        "colab": {
          "base_uri": "https://localhost:8080/"
        },
        "outputId": "ddf2010a-48b4-4fde-ccf5-537f02a6e27a"
      },
      "source": [
        "x = torch.tensor([1.,1], requires_grad=True)\n",
        "div = torch.tensor([0.,1])\n",
        "\n",
        "y = x/div # => y is [inf, 1]\n",
        "\n",
        "mask = (div!=0) # => mask is [0, 1]\n",
        "loss = y[mask]\n",
        "\n",
        "loss.backward()\n",
        "print(x.grad) # grad is [nan, 1], but expected [0, 1]"
      ],
      "execution_count": 24,
      "outputs": [
        {
          "output_type": "stream",
          "name": "stdout",
          "text": [
            "tensor([nan, 1.])\n"
          ]
        }
      ]
    },
    {
      "cell_type": "code",
      "metadata": {
        "colab": {
          "base_uri": "https://localhost:8080/"
        },
        "id": "ubpvInxyWa96",
        "outputId": "645f11a7-d9d7-45d4-e0d4-0dd5aa25c028"
      },
      "source": [
        "x = torch.tensor([1.,1], requires_grad=True)\n",
        "div = torch.tensor([0.,1])\n",
        "\n",
        "y = x/div # => y is [inf, 1]\n",
        "\n",
        "mask = (div!=0) # => mask is [0, 1]\n",
        "loss = as_masked_tensor(y, mask)\n",
        "# We could add autograd support for indexing here instead of using sum\n",
        "loss = loss.sum()\n",
        "loss.backward()\n",
        "print(x.grad) # grad is [nan, 1], but expected [0, 1]"
      ],
      "execution_count": 25,
      "outputs": [
        {
          "output_type": "stream",
          "name": "stdout",
          "text": [
            "masked_tensor(\n",
            "  [      --,   1.0000]\n",
            ")\n"
          ]
        }
      ]
    },
    {
      "cell_type": "markdown",
      "metadata": {
        "id": "0ZtVzpfncaLJ"
      },
      "source": [
        "### [10729](https://github.com/pytorch/pytorch/issues/10729)"
      ]
    },
    {
      "cell_type": "code",
      "metadata": {
        "colab": {
          "base_uri": "https://localhost:8080/"
        },
        "id": "3qXzCP16capH",
        "outputId": "2c84a661-ff94-43f5-c8d5-b112f11ca116"
      },
      "source": [
        "# This behavior underlies the fix to clamp, which uses where in its derivative\n",
        "x = torch.tensor([-10., -5, 0, 5, 10, 50, 60, 70, 80, 90, 100], requires_grad=True)\n",
        "y = torch.where(x < 0, torch.exp(x), torch.ones_like(x))\n",
        "print(y)\n",
        "y.sum().backward()\n",
        "print(x.grad)"
      ],
      "execution_count": 26,
      "outputs": [
        {
          "output_type": "stream",
          "name": "stdout",
          "text": [
            "tensor([4.5400e-05, 6.7379e-03, 1.0000e+00, 1.0000e+00, 1.0000e+00, 1.0000e+00,\n",
            "        1.0000e+00, 1.0000e+00, 1.0000e+00, 1.0000e+00, 1.0000e+00],\n",
            "       grad_fn=<SWhereBackward0>)\n",
            "tensor([4.5400e-05, 6.7379e-03, 0.0000e+00, 0.0000e+00, 0.0000e+00, 0.0000e+00,\n",
            "        0.0000e+00, 0.0000e+00, 0.0000e+00,        nan,        nan])\n"
          ]
        }
      ]
    },
    {
      "cell_type": "code",
      "metadata": {
        "colab": {
          "base_uri": "https://localhost:8080/"
        },
        "id": "3nhzuR1-c3Du",
        "outputId": "3861849c-4090-49b6-b188-193e8cb23d67"
      },
      "source": [
        "x = torch.tensor([-10., -5, 0, 5, 10, 50, 60, 70, 80, 90, 100], requires_grad=True)\n",
        "mask = x < 0\n",
        "mx = masked_tensor(x, mask, requires_grad=True)\n",
        "my = masked_tensor(torch.ones_like(x), ~mask, requires_grad=True)\n",
        "y = torch.where(mask, torch.exp(mx), my)\n",
        "s = y.sum()\n",
        "s.backward()\n",
        "# Gradient is only provided to selected subset.\n",
        "# Effectively this changes the gradient of where to mask out elements instead\n",
        "# of setting them to zero.\n",
        "print(\"mx.grad: \", mx.grad)\n",
        "print(\"my.grad:\", my.grad)"
      ],
      "execution_count": 27,
      "outputs": [
        {
          "output_type": "stream",
          "name": "stdout",
          "text": [
            "mx.grad:  masked_tensor(\n",
            "  [  0.0000,   0.0067,       --,       --,       --,       --,       --,       --,       --,       --,       --]\n",
            ")\n",
            "my.grad: masked_tensor(\n",
            "  [      --,       --,   1.0000,   1.0000,   1.0000,   1.0000,   1.0000,   1.0000,   1.0000,   1.0000,   1.0000]\n",
            ")\n"
          ]
        }
      ]
    },
    {
      "cell_type": "code",
      "metadata": {
        "colab": {
          "base_uri": "https://localhost:8080/"
        },
        "id": "pYR-KqL42H7x",
        "outputId": "651384b6-7a9a-4070-83b7-b3eeb3e8dc2e"
      },
      "source": [
        "# A more recent incarnation specific to where of this\n",
        "# https://github.com/pytorch/pytorch/issues/52248\n",
        "\n",
        "a = torch.randn((), requires_grad=True)\n",
        "\n",
        "b = torch.tensor(False)\n",
        "\n",
        "c = torch.ones(())\n",
        "\n",
        "print(torch.where(b, a/0, c))\n",
        "print(torch.autograd.grad(torch.where(b, a/0, c), a))\n"
      ],
      "execution_count": 28,
      "outputs": [
        {
          "output_type": "stream",
          "name": "stdout",
          "text": [
            "tensor(1., grad_fn=<SWhereBackward0>)\n",
            "(tensor(nan),)\n"
          ]
        }
      ]
    },
    {
      "cell_type": "code",
      "metadata": {
        "colab": {
          "base_uri": "https://localhost:8080/"
        },
        "id": "RvchAJry24Ak",
        "outputId": "46af7d99-20fb-44ee-df6c-f463123f477f"
      },
      "source": [
        "a = masked_tensor(torch.randn(()), torch.tensor(True), requires_grad=True)\n",
        "\n",
        "b = torch.tensor(False)\n",
        "\n",
        "c = torch.ones(())\n",
        "\n",
        "print(torch.where(b, a/0, c))\n",
        "print(torch.autograd.grad(torch.where(b, a/0, c), a))"
      ],
      "execution_count": 29,
      "outputs": [
        {
          "output_type": "stream",
          "name": "stdout",
          "text": [
            "masked_tensor(  1.0000, True)\n",
            "(masked_tensor(--, False),)\n"
          ]
        }
      ]
    },
    {
      "cell_type": "markdown",
      "metadata": {
        "id": "gMqxnPslmTCI"
      },
      "source": [
        "### [21987](https://github.com/pytorch/pytorch/issues/21987)\n",
        "Was closed by inclusion into [Implement missing torch.nan* operators](https://github.com/pytorch/pytorch/issues/61474). This proposes an alternative, which is to use masked tensors instead of introducing additional operators. Since nanmean [has already landed](https://github.com/pytorch/pytorch/issues/21987) we can use it as a comparison point."
      ]
    },
    {
      "cell_type": "code",
      "metadata": {
        "colab": {
          "base_uri": "https://localhost:8080/"
        },
        "id": "X-b9rVOzmNH0",
        "outputId": "1ab8b7eb-57f7-4a70-bc73-abbbabee7b6a"
      },
      "source": [
        "y = torch.arange(32).float()\n",
        "x = y * y.fmod(4)\n",
        "x = x.masked_fill(x == 0, float('nan'))\n",
        "print(x)\n",
        "print(torch.nanmean(x))\n",
        "print(torch.mean(masked_tensor(x, ~torch.isnan(x))))"
      ],
      "execution_count": 30,
      "outputs": [
        {
          "output_type": "stream",
          "name": "stdout",
          "text": [
            "tensor([nan,  1.,  4.,  9., nan,  5., 12., 21., nan,  9., 20., 33., nan, 13.,\n",
            "        28., 45., nan, 17., 36., 57., nan, 21., 44., 69., nan, 25., 52., 81.,\n",
            "        nan, 29., 60., 93.])\n",
            "tensor(32.6667)\n",
            "masked_tensor( 32.6667, True)\n"
          ]
        }
      ]
    },
    {
      "cell_type": "markdown",
      "metadata": {
        "id": "R8zHciFup_C-"
      },
      "source": [
        "MaskedTensor can further support reduction when fully masked out, as would be the case when a given Tensor is completetely nan. nanmean on the other hand returns nan when the input is entirely nan."
      ]
    },
    {
      "cell_type": "code",
      "metadata": {
        "colab": {
          "base_uri": "https://localhost:8080/"
        },
        "id": "Y9_ZT63Mm96y",
        "outputId": "dccda564-ff2a-4e70-b58b-62668c2fdde3"
      },
      "source": [
        "x = torch.empty(32)\n",
        "x.fill_(float('nan'))\n",
        "print(x)\n",
        "print(torch.nanmean(x))\n",
        "print(torch.mean(masked_tensor(x, ~torch.isnan(x))))"
      ],
      "execution_count": 31,
      "outputs": [
        {
          "output_type": "stream",
          "name": "stdout",
          "text": [
            "tensor([nan, nan, nan, nan, nan, nan, nan, nan, nan, nan, nan, nan, nan, nan, nan, nan, nan, nan, nan, nan, nan, nan, nan, nan,\n",
            "        nan, nan, nan, nan, nan, nan, nan, nan])\n",
            "tensor(nan)\n",
            "masked_tensor(--, False)\n"
          ]
        }
      ]
    },
    {
      "cell_type": "markdown",
      "metadata": {
        "id": "jZwH_xn308Rw"
      },
      "source": [
        "Further [some users](https://github.com/pytorch/pytorch/issues/63870) already want to use nan reductions to encode masked semantics."
      ]
    }
  ]
}